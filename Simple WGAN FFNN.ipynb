{
 "cells": [
  {
   "cell_type": "code",
   "execution_count": 1,
   "metadata": {},
   "outputs": [],
   "source": [
    "# This is a first simple GAN that learns to model a very simple distribution\n",
    "# It is not a convolutional GAN"
   ]
  },
  {
   "cell_type": "code",
   "execution_count": 2,
   "metadata": {},
   "outputs": [],
   "source": [
    "# Imports\n",
    "from torch.utils.data import Dataset, DataLoader\n",
    "import numpy as np\n",
    "import torch\n",
    "import matplotlib\n",
    "matplotlib.use('agg')\n",
    "import matplotlib.pyplot as plt\n",
    "from scipy.stats import multivariate_normal\n",
    "from tqdm import tqdm\n",
    "import torch.nn.functional as F\n",
    "from torch.nn.init import kaiming_uniform_\n",
    "import io\n",
    "import PIL.Image\n",
    "\n",
    "from torch.utils.tensorboard import SummaryWriter\n",
    "from torchvision.transforms import ToTensor\n",
    "\n",
    "z_width = 5"
   ]
  },
  {
   "cell_type": "code",
   "execution_count": 3,
   "metadata": {},
   "outputs": [],
   "source": [
    "# Helper function to save matplotlib plots to a buffer for drawing to tensorboard.\n",
    "\n",
    "def gen_plot():\n",
    "    buf = io.BytesIO()\n",
    "    plt.savefig(buf, format='jpeg')\n",
    "    buf.seek(0)\n",
    "    return buf"
   ]
  },
  {
   "cell_type": "code",
   "execution_count": 4,
   "metadata": {},
   "outputs": [],
   "source": [
    "# Create the distribution of the real data and a sampler\n",
    "# The 'real data' is sampled from a 2 Dimensional Gaussian distribution\n",
    "\n",
    "class GaussianDataset(Dataset):\n",
    "    def __init__(self, mean, cov, N):\n",
    "        self.data = np.random.multivariate_normal(mean, cov, N).astype(float)\n",
    "        self.mean = mean\n",
    "        self.cov = cov\n",
    "        self.N = N\n",
    "    \n",
    "    def __len__(self):\n",
    "        return self.N\n",
    "    \n",
    "    def __getitem__(self, idx):\n",
    "        if torch.is_tensor(idx):\n",
    "            idx = idx.tolist()\n",
    "            \n",
    "        return self.data[idx]"
   ]
  },
  {
   "cell_type": "code",
   "execution_count": 5,
   "metadata": {},
   "outputs": [],
   "source": [
    "# Display contour lines for given distribution\n",
    "\n",
    "def display_contours(mean, cov, mn_x, mx_x, mn_y, mx_y):\n",
    "    x, y = np.mgrid[mn_x:mx_x:0.1, mn_y:mx_y:0.1]\n",
    "    pos = np.empty(x.shape + (2,))\n",
    "    pos[:, :, 0] = x\n",
    "    pos[:, :, 1] = y\n",
    "    rv = multivariate_normal(mean, cov)\n",
    "    plt.contourf(x, y, np.log(rv.pdf(pos)), cmap='Greys')"
   ]
  },
  {
   "cell_type": "code",
   "execution_count": 6,
   "metadata": {},
   "outputs": [
    {
     "data": {
      "text/plain": [
       "(-10, 10)"
      ]
     },
     "execution_count": 6,
     "metadata": {},
     "output_type": "execute_result"
    }
   ],
   "source": [
    "# Test the creation of the dataset\n",
    "\n",
    "real_mean = [2, 4]\n",
    "real_cov = [[3, 1], [1, 12]]\n",
    "dataset = GaussianDataset(mean=real_mean, cov=real_cov, N=1000)\n",
    "\n",
    "\n",
    "plt.figure(figsize=(4, 4))\n",
    "display_contours(real_mean, real_cov, -10, 10, -10, 10)\n",
    "for i, datum in enumerate(dataset):\n",
    "    plt.scatter(datum[0], datum[1])\n",
    "    \n",
    "plt.xlim(-10, 10)\n",
    "plt.ylim(-10, 10)"
   ]
  },
  {
   "cell_type": "code",
   "execution_count": 7,
   "metadata": {},
   "outputs": [],
   "source": [
    "# Generator Network\n",
    "class Generator(torch.nn.Module):\n",
    "    def __init__(self, z_width = 5):\n",
    "        super().__init__()\n",
    "        self.lin1 = torch.nn.Linear(z_width, 15)\n",
    "        self.lin2 = torch.nn.Linear(15, 2)\n",
    "        kaiming_uniform_(self.lin1.weight, nonlinearity='relu')\n",
    "        kaiming_uniform_(self.lin2.weight, nonlinearity='relu')\n",
    "        \n",
    "    def forward(self, x):\n",
    "        x = F.relu(self.lin1(x))\n",
    "        x = self.lin2(x)\n",
    "        \n",
    "        return x"
   ]
  },
  {
   "cell_type": "code",
   "execution_count": 8,
   "metadata": {},
   "outputs": [],
   "source": [
    "# Critic Network\n",
    "class Critic(torch.nn.Module):\n",
    "    def __init__(self):\n",
    "        super().__init__()\n",
    "        self.lin1 = torch.nn.Linear(2, 25)\n",
    "        self.lin2 = torch.nn.Linear(25, 1)\n",
    "        kaiming_uniform_(self.lin1.weight, nonlinearity='relu')\n",
    "        kaiming_uniform_(self.lin2.weight, nonlinearity='relu')\n",
    "        \n",
    "    def forward(self, x):\n",
    "        x = F.relu(self.lin1(x))\n",
    "        x = self.lin2(x)\n",
    "        return x"
   ]
  },
  {
   "cell_type": "code",
   "execution_count": null,
   "metadata": {
    "scrolled": false
   },
   "outputs": [
    {
     "name": "stderr",
     "output_type": "stream",
     "text": [
      "/home/skusku/miniconda3/lib/python3.7/site-packages/ipykernel_launcher.py:9: RuntimeWarning: divide by zero encountered in log\n",
      "  if __name__ == '__main__':\n",
      "/home/skusku/miniconda3/lib/python3.7/site-packages/ipykernel_launcher.py:63: RuntimeWarning: More than 20 figures have been opened. Figures created through the pyplot interface (`matplotlib.pyplot.figure`) are retained until explicitly closed and may consume too much memory. (To control this warning, see the rcParam `figure.max_open_warning`).\n"
     ]
    }
   ],
   "source": [
    "# Training\n",
    "writer = SummaryWriter()\n",
    "\n",
    "# Create the 'real data' dataset\n",
    "real_mean = [10, 10]\n",
    "real_cov = [[0.2, 0], [0, 0.2]]\n",
    "real_dataset = GaussianDataset(mean=real_mean, cov=real_cov, N=1000)\n",
    "real_dataloader = DataLoader(real_dataset, batch_size=64, shuffle=True, num_workers=1)\n",
    "\n",
    "epochs = 50000\n",
    "batch_size = 64\n",
    "\n",
    "n_critic = 5\n",
    "\n",
    "# Create the models\n",
    "critic = Critic()\n",
    "C_optimizer = torch.optim.RMSprop(critic.parameters(), lr=0.0005)\n",
    "\n",
    "gen = Generator()\n",
    "G_optimizer = torch.optim.RMSprop(gen.parameters(), lr=0.0005)\n",
    "\n",
    "critic.train()\n",
    "gen.train()\n",
    "\n",
    "for i in range(epochs):\n",
    "    # Sample from the 'real data'\n",
    "    X_real = next(iter(real_dataloader)).type(torch.FloatTensor)\n",
    "\n",
    "    # Train discriminator\n",
    "    z = torch.randn((batch_size, z_width))\n",
    "    gen_opt = gen(z)\n",
    "    \n",
    "    C_optimizer.zero_grad()\n",
    "    real_score = -torch.mean(critic(X_real)) # criterion(disc(X_real), y)\n",
    "    fake_score = torch.mean(critic(gen_opt.detach())) # criterion(disc(gen_opt.detach()), y)\n",
    "    \n",
    "        # The loss is just the mean of the two losses\n",
    "    c_score = real_score + fake_score\n",
    "    c_score.backward()\n",
    "    C_optimizer.step()\n",
    "    \n",
    "    writer.add_scalar('D Score', c_score, i)\n",
    "    \n",
    "    for p in critic.parameters():\n",
    "        p.data.clamp_(-0.1, 0.1)\n",
    "        \n",
    "    if i % n_critic == 0:\n",
    "        # Train generator\n",
    "\n",
    "        G_optimizer.zero_grad()\n",
    "        z = torch.randn((batch_size, z_width))\n",
    "        gen_opt = gen(z)\n",
    "        \n",
    "        g_loss = -torch.mean(critic(gen_opt)) # criterion(disc(gen_opt), y)\n",
    "        writer.add_scalar('G Score', g_loss, i)\n",
    "        \n",
    "        g_loss.backward()\n",
    "        G_optimizer.step()        \n",
    "        \n",
    "        \n",
    "    # Show plot every now and then\n",
    "    if i % 100 == 0:\n",
    "        figure = plt.figure(figsize=(4, 4))\n",
    "        display_contours(real_mean, real_cov, -5, 15, -5, 15)\n",
    "        datum = gen_opt.detach()\n",
    "        for d in datum:\n",
    "            plt.scatter(d[0], d[1])\n",
    "            \n",
    "        plt.scatter(torch.mean(datum[:,0]), torch.mean(datum[:,1]), marker='x')\n",
    "\n",
    "        plt.xlim(-5, 15)\n",
    "        plt.ylim(-5, 15)\n",
    "\n",
    "        plot_buf = gen_plot()\n",
    "        image = PIL.Image.open(plot_buf)\n",
    "        image = ToTensor()(image)\n",
    "        writer.add_image('Generated Data', image, i)\n",
    "    \n",
    "              \n",
    "writer.close()"
   ]
  },
  {
   "cell_type": "code",
   "execution_count": null,
   "metadata": {},
   "outputs": [],
   "source": []
  }
 ],
 "metadata": {
  "kernelspec": {
   "display_name": "Python 3",
   "language": "python",
   "name": "python3"
  },
  "language_info": {
   "codemirror_mode": {
    "name": "ipython",
    "version": 3
   },
   "file_extension": ".py",
   "mimetype": "text/x-python",
   "name": "python",
   "nbconvert_exporter": "python",
   "pygments_lexer": "ipython3",
   "version": "3.7.4"
  }
 },
 "nbformat": 4,
 "nbformat_minor": 2
}
